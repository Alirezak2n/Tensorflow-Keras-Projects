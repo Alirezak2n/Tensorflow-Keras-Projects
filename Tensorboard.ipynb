{
 "cells": [
  {
   "cell_type": "markdown",
   "metadata": {},
   "source": [
    "<a href=\"https://www.pieriandata.com\"><img src=\"../Pierian_Data_Logo.PNG\"></a>\n",
    "<strong><center>Copyright by Pierian Data Inc.</center></strong> \n",
    "<strong><center>Created by Jose Marcial Portilla.</center></strong>"
   ]
  },
  {
   "cell_type": "markdown",
   "metadata": {},
   "source": [
    "# Tensorboard\n",
    "\n",
    "---\n",
    "---\n",
    "\n",
    "**NOTE: You must watch the corresponding video to understand this lecture. This notebook can't serve as a full guide. Please watch the video BEFORE posting questions to the QA forum.**\n",
    "\n",
    "---\n",
    "---\n",
    "\n",
    "Let's explore the built in data visualization capabilities that come with Tensorboard.\n",
    "\n",
    "Full official tutorial available here: https://www.tensorflow.org/tensorboard/get_started\n",
    "\n",
    "## Data"
   ]
  },
  {
   "cell_type": "code",
   "execution_count": 1,
   "metadata": {},
   "outputs": [],
   "source": [
    "import pandas as pd\n",
    "import numpy as np"
   ]
  },
  {
   "cell_type": "code",
   "execution_count": 2,
   "metadata": {},
   "outputs": [],
   "source": [
    "df = pd.read_csv('./example_files/cancer_classification.csv')"
   ]
  },
  {
   "cell_type": "markdown",
   "metadata": {},
   "source": [
    "### Train Test Split"
   ]
  },
  {
   "cell_type": "code",
   "execution_count": 3,
   "metadata": {},
   "outputs": [],
   "source": [
    "X = df.drop('benign_0__mal_1',axis=1).values\n",
    "y = df['benign_0__mal_1'].values"
   ]
  },
  {
   "cell_type": "code",
   "execution_count": 4,
   "metadata": {},
   "outputs": [],
   "source": [
    "from sklearn.model_selection import train_test_split"
   ]
  },
  {
   "cell_type": "code",
   "execution_count": 5,
   "metadata": {},
   "outputs": [],
   "source": [
    "X_train, X_test, y_train, y_test = train_test_split(X,y,test_size=0.25,random_state=101)"
   ]
  },
  {
   "cell_type": "markdown",
   "metadata": {},
   "source": [
    "\n",
    "### Scaling Data"
   ]
  },
  {
   "cell_type": "code",
   "execution_count": 6,
   "metadata": {},
   "outputs": [],
   "source": [
    "from sklearn.preprocessing import MinMaxScaler"
   ]
  },
  {
   "cell_type": "code",
   "execution_count": 7,
   "metadata": {},
   "outputs": [],
   "source": [
    "scaler = MinMaxScaler()"
   ]
  },
  {
   "cell_type": "code",
   "execution_count": 8,
   "metadata": {},
   "outputs": [
    {
     "data": {
      "text/plain": [
       "MinMaxScaler(copy=True, feature_range=(0, 1))"
      ]
     },
     "execution_count": 8,
     "metadata": {},
     "output_type": "execute_result"
    }
   ],
   "source": [
    "scaler.fit(X_train)"
   ]
  },
  {
   "cell_type": "code",
   "execution_count": 9,
   "metadata": {},
   "outputs": [],
   "source": [
    "X_train = scaler.transform(X_train)\n",
    "X_test = scaler.transform(X_test)"
   ]
  },
  {
   "cell_type": "markdown",
   "metadata": {},
   "source": [
    "## Creating the Model"
   ]
  },
  {
   "cell_type": "code",
   "execution_count": 10,
   "metadata": {},
   "outputs": [],
   "source": [
    "import tensorflow as tf\n",
    "from tensorflow.keras.models import Sequential\n",
    "from tensorflow.keras.layers import Dense, Activation,Dropout"
   ]
  },
  {
   "cell_type": "code",
   "execution_count": 11,
   "metadata": {},
   "outputs": [],
   "source": [
    "from tensorflow.keras.callbacks import EarlyStopping,TensorBoard"
   ]
  },
  {
   "cell_type": "code",
   "execution_count": 12,
   "metadata": {},
   "outputs": [],
   "source": [
    "early_stop = EarlyStopping(monitor='val_loss', mode='min', verbose=1, patience=25)"
   ]
  },
  {
   "cell_type": "code",
   "execution_count": 13,
   "metadata": {},
   "outputs": [
    {
     "data": {
      "text/plain": [
       "'/home/masteropencv/1Python exercises/Tensorflow keras'"
      ]
     },
     "execution_count": 13,
     "metadata": {},
     "output_type": "execute_result"
    }
   ],
   "source": [
    "pwd"
   ]
  },
  {
   "cell_type": "markdown",
   "metadata": {},
   "source": [
    "## Creating the Tensorboard Callback\n",
    "\n",
    "TensorBoard is a visualization tool provided with TensorFlow.\n",
    "\n",
    "This callback logs events for TensorBoard, including:\n",
    "* Metrics summary plots\n",
    "* Training graph visualization\n",
    "* Activation histograms\n",
    "* Sampled profiling\n",
    "\n",
    "If you have installed TensorFlow with pip, you should be able\n",
    "to launch TensorBoard from the command line:\n",
    "\n",
    "```sh\n",
    "tensorboard --logdir=path_to_your_logs\n",
    "```\n",
    "\n",
    "You can find more information about TensorBoard\n",
    "[here](https://www.tensorflow.org/tensorboard/).\n",
    "\n",
    "    Arguments:\n",
    "        log_dir: the path of the directory where to save the log files to be\n",
    "          parsed by TensorBoard.\n",
    "        histogram_freq: frequency (in epochs) at which to compute activation and\n",
    "          weight histograms for the layers of the model. If set to 0, histograms\n",
    "          won't be computed. Validation data (or split) must be specified for\n",
    "          histogram visualizations.\n",
    "        write_graph: whether to visualize the graph in TensorBoard. The log file\n",
    "          can become quite large when write_graph is set to True.\n",
    "        write_images: whether to write model weights to visualize as image in\n",
    "          TensorBoard.\n",
    "        update_freq: `'batch'` or `'epoch'` or integer. When using `'batch'`,\n",
    "          writes the losses and metrics to TensorBoard after each batch. The same\n",
    "          applies for `'epoch'`. If using an integer, let's say `1000`, the\n",
    "          callback will write the metrics and losses to TensorBoard every 1000\n",
    "          samples. Note that writing too frequently to TensorBoard can slow down\n",
    "          your training.\n",
    "        profile_batch: Profile the batch to sample compute characteristics. By\n",
    "          default, it will profile the second batch. Set profile_batch=0 to\n",
    "          disable profiling. Must run in TensorFlow eager mode.\n",
    "        embeddings_freq: frequency (in epochs) at which embedding layers will\n",
    "          be visualized. If set to 0, embeddings won't be visualized.\n",
    "       "
   ]
  },
  {
   "cell_type": "code",
   "execution_count": 14,
   "metadata": {},
   "outputs": [],
   "source": [
    "from datetime import datetime"
   ]
  },
  {
   "cell_type": "code",
   "execution_count": 15,
   "metadata": {},
   "outputs": [
    {
     "data": {
      "text/plain": [
       "'2020-04-20--1343'"
      ]
     },
     "execution_count": 15,
     "metadata": {},
     "output_type": "execute_result"
    }
   ],
   "source": [
    "datetime.now().strftime(\"%Y-%m-%d--%H%M\")\n",
    "#zamane alan ro mide ba date k mikonim esme folder"
   ]
  },
  {
   "cell_type": "code",
   "execution_count": 17,
   "metadata": {},
   "outputs": [],
   "source": [
    "# WINDOWS: Use \"logs\\\\fit\"\n",
    "# MACOS/LINUX: Use \"logs\\fit\"\n",
    "\n",
    "log_directory = 'logs/fit'#ba khate payin mitunim folder bandi ba date bokonim\n",
    "\n",
    "# OPTIONAL: ADD A TIMESTAMP FOR UNIQUE FOLDER\n",
    "# timestamp = datetime.now().strftime(\"%Y-%m-%d--%H%M\")\n",
    "# log_directory = log_directory + '/' + timestamp\n",
    "\n",
    "board = TensorBoard(log_dir=log_directory,histogram_freq=1,\n",
    "    write_graph=True,\n",
    "    write_images=True,\n",
    "    update_freq='epoch',\n",
    "    profile_batch=2,\n",
    "    embeddings_freq=1)\n",
    "\n",
    "#log_dir makanesho moshakhas mikonim\n",
    "#histogram_freq record mikone tu har epoch weight haro calculate mikone o ye 3d mide\n",
    "# write_graph khode graph ro ham bde\n",
    "#weight model ro b surat tasvir mide ta visualize konim\n",
    "#update_freq key update kone\n",
    "#profile_batch mohasebe vijegiha dar batch 2vom\n",
    "#har chan vaght dar epoch ha layers visualized beshe"
   ]
  },
  {
   "cell_type": "markdown",
   "metadata": {},
   "source": [
    "Now create the model layers:"
   ]
  },
  {
   "cell_type": "code",
   "execution_count": 18,
   "metadata": {},
   "outputs": [],
   "source": [
    "model = Sequential()\n",
    "model.add(Dense(units=30,activation='relu'))\n",
    "model.add(Dropout(0.5))\n",
    "model.add(Dense(units=15,activation='relu'))\n",
    "model.add(Dropout(0.5))\n",
    "model.add(Dense(units=1,activation='sigmoid'))\n",
    "model.compile(loss='binary_crossentropy', optimizer='adam')"
   ]
  },
  {
   "cell_type": "markdown",
   "metadata": {},
   "source": [
    "## Train the Model"
   ]
  },
  {
   "cell_type": "code",
   "execution_count": 19,
   "metadata": {},
   "outputs": [
    {
     "name": "stdout",
     "output_type": "stream",
     "text": [
      "Train on 426 samples, validate on 143 samples\n",
      "Epoch 1/600\n",
      "426/426 [==============================] - 1s 2ms/sample - loss: 0.6979 - val_loss: 0.6731\n",
      "Epoch 2/600\n",
      "426/426 [==============================] - 0s 221us/sample - loss: 0.6705 - val_loss: 0.6513\n",
      "Epoch 3/600\n",
      "426/426 [==============================] - 0s 206us/sample - loss: 0.6588 - val_loss: 0.6352\n",
      "Epoch 4/600\n",
      "426/426 [==============================] - 0s 224us/sample - loss: 0.6375 - val_loss: 0.6195\n",
      "Epoch 5/600\n",
      "426/426 [==============================] - 0s 241us/sample - loss: 0.6160 - val_loss: 0.6056\n",
      "Epoch 6/600\n",
      "426/426 [==============================] - 0s 192us/sample - loss: 0.6080 - val_loss: 0.5880\n",
      "Epoch 7/600\n",
      "426/426 [==============================] - 0s 171us/sample - loss: 0.6044 - val_loss: 0.5704\n",
      "Epoch 8/600\n",
      "426/426 [==============================] - 0s 192us/sample - loss: 0.5987 - val_loss: 0.5545\n",
      "Epoch 9/600\n",
      "426/426 [==============================] - 0s 210us/sample - loss: 0.5746 - val_loss: 0.5329\n",
      "Epoch 10/600\n",
      "426/426 [==============================] - 0s 200us/sample - loss: 0.5509 - val_loss: 0.5084\n",
      "Epoch 11/600\n",
      "426/426 [==============================] - 0s 199us/sample - loss: 0.5228 - val_loss: 0.4831\n",
      "Epoch 12/600\n",
      "426/426 [==============================] - 0s 221us/sample - loss: 0.5098 - val_loss: 0.4608\n",
      "Epoch 13/600\n",
      "426/426 [==============================] - 0s 259us/sample - loss: 0.5103 - val_loss: 0.4338\n",
      "Epoch 14/600\n",
      "426/426 [==============================] - 0s 242us/sample - loss: 0.4714 - val_loss: 0.4071\n",
      "Epoch 15/600\n",
      "426/426 [==============================] - 0s 245us/sample - loss: 0.4686 - val_loss: 0.3911\n",
      "Epoch 16/600\n",
      "426/426 [==============================] - 0s 219us/sample - loss: 0.4400 - val_loss: 0.3676\n",
      "Epoch 17/600\n",
      "426/426 [==============================] - 0s 206us/sample - loss: 0.4436 - val_loss: 0.3534\n",
      "Epoch 18/600\n",
      "426/426 [==============================] - 0s 200us/sample - loss: 0.4009 - val_loss: 0.3282\n",
      "Epoch 19/600\n",
      "426/426 [==============================] - 0s 192us/sample - loss: 0.4061 - val_loss: 0.3079\n",
      "Epoch 20/600\n",
      "426/426 [==============================] - 0s 191us/sample - loss: 0.3841 - val_loss: 0.2900\n",
      "Epoch 21/600\n",
      "426/426 [==============================] - 0s 196us/sample - loss: 0.3858 - val_loss: 0.2724\n",
      "Epoch 22/600\n",
      "426/426 [==============================] - 0s 192us/sample - loss: 0.3420 - val_loss: 0.2600\n",
      "Epoch 23/600\n",
      "426/426 [==============================] - 0s 191us/sample - loss: 0.3356 - val_loss: 0.2446\n",
      "Epoch 24/600\n",
      "426/426 [==============================] - 0s 194us/sample - loss: 0.3518 - val_loss: 0.2323\n",
      "Epoch 25/600\n",
      "426/426 [==============================] - 0s 193us/sample - loss: 0.3297 - val_loss: 0.2251\n",
      "Epoch 26/600\n",
      "426/426 [==============================] - 0s 189us/sample - loss: 0.3490 - val_loss: 0.2176\n",
      "Epoch 27/600\n",
      "426/426 [==============================] - 0s 197us/sample - loss: 0.3391 - val_loss: 0.2119\n",
      "Epoch 28/600\n",
      "426/426 [==============================] - 0s 189us/sample - loss: 0.3057 - val_loss: 0.2034\n",
      "Epoch 29/600\n",
      "426/426 [==============================] - 0s 190us/sample - loss: 0.3245 - val_loss: 0.1947\n",
      "Epoch 30/600\n",
      "426/426 [==============================] - 0s 191us/sample - loss: 0.2671 - val_loss: 0.1894\n",
      "Epoch 31/600\n",
      "426/426 [==============================] - 0s 203us/sample - loss: 0.3069 - val_loss: 0.1802\n",
      "Epoch 32/600\n",
      "426/426 [==============================] - 0s 191us/sample - loss: 0.3041 - val_loss: 0.1750\n",
      "Epoch 33/600\n",
      "426/426 [==============================] - 0s 189us/sample - loss: 0.3072 - val_loss: 0.1760\n",
      "Epoch 34/600\n",
      "426/426 [==============================] - 0s 200us/sample - loss: 0.2900 - val_loss: 0.1707\n",
      "Epoch 35/600\n",
      "426/426 [==============================] - 0s 162us/sample - loss: 0.2782 - val_loss: 0.1642\n",
      "Epoch 36/600\n",
      "426/426 [==============================] - 0s 182us/sample - loss: 0.2711 - val_loss: 0.1642\n",
      "Epoch 37/600\n",
      "426/426 [==============================] - 0s 179us/sample - loss: 0.2612 - val_loss: 0.1656\n",
      "Epoch 38/600\n",
      "426/426 [==============================] - 0s 308us/sample - loss: 0.2434 - val_loss: 0.1576\n",
      "Epoch 39/600\n",
      "426/426 [==============================] - 0s 157us/sample - loss: 0.2708 - val_loss: 0.1535\n",
      "Epoch 40/600\n",
      "426/426 [==============================] - 0s 167us/sample - loss: 0.2391 - val_loss: 0.1517\n",
      "Epoch 41/600\n",
      "426/426 [==============================] - 0s 170us/sample - loss: 0.2682 - val_loss: 0.1441\n",
      "Epoch 42/600\n",
      "426/426 [==============================] - 0s 192us/sample - loss: 0.2530 - val_loss: 0.1460\n",
      "Epoch 43/600\n",
      "426/426 [==============================] - 0s 196us/sample - loss: 0.2429 - val_loss: 0.1448\n",
      "Epoch 44/600\n",
      "426/426 [==============================] - 0s 190us/sample - loss: 0.2191 - val_loss: 0.1349\n",
      "Epoch 45/600\n",
      "426/426 [==============================] - 0s 198us/sample - loss: 0.2272 - val_loss: 0.1347\n",
      "Epoch 46/600\n",
      "426/426 [==============================] - 0s 188us/sample - loss: 0.2399 - val_loss: 0.1359\n",
      "Epoch 47/600\n",
      "426/426 [==============================] - 0s 206us/sample - loss: 0.2286 - val_loss: 0.1404\n",
      "Epoch 48/600\n",
      "426/426 [==============================] - 0s 177us/sample - loss: 0.2379 - val_loss: 0.1327\n",
      "Epoch 49/600\n",
      "426/426 [==============================] - 0s 182us/sample - loss: 0.2276 - val_loss: 0.1324\n",
      "Epoch 50/600\n",
      "426/426 [==============================] - 0s 185us/sample - loss: 0.2315 - val_loss: 0.1319\n",
      "Epoch 51/600\n",
      "426/426 [==============================] - 0s 184us/sample - loss: 0.1975 - val_loss: 0.1215\n",
      "Epoch 52/600\n",
      "426/426 [==============================] - 0s 191us/sample - loss: 0.2118 - val_loss: 0.1199\n",
      "Epoch 53/600\n",
      "426/426 [==============================] - 0s 186us/sample - loss: 0.2210 - val_loss: 0.1176\n",
      "Epoch 54/600\n",
      "426/426 [==============================] - 0s 170us/sample - loss: 0.1871 - val_loss: 0.1166\n",
      "Epoch 55/600\n",
      "426/426 [==============================] - 0s 180us/sample - loss: 0.1808 - val_loss: 0.1156\n",
      "Epoch 56/600\n",
      "426/426 [==============================] - 0s 188us/sample - loss: 0.2301 - val_loss: 0.1287\n",
      "Epoch 57/600\n",
      "426/426 [==============================] - 0s 177us/sample - loss: 0.2208 - val_loss: 0.1276\n",
      "Epoch 58/600\n",
      "426/426 [==============================] - 0s 209us/sample - loss: 0.2059 - val_loss: 0.1212\n",
      "Epoch 59/600\n",
      "426/426 [==============================] - 0s 184us/sample - loss: 0.1968 - val_loss: 0.1181\n",
      "Epoch 60/600\n",
      "426/426 [==============================] - 0s 153us/sample - loss: 0.2185 - val_loss: 0.1143\n",
      "Epoch 61/600\n",
      "426/426 [==============================] - 0s 158us/sample - loss: 0.1919 - val_loss: 0.1106\n",
      "Epoch 62/600\n",
      "426/426 [==============================] - 0s 167us/sample - loss: 0.1751 - val_loss: 0.1116\n",
      "Epoch 63/600\n",
      "426/426 [==============================] - 0s 151us/sample - loss: 0.2037 - val_loss: 0.1132\n",
      "Epoch 64/600\n",
      "426/426 [==============================] - 0s 150us/sample - loss: 0.1635 - val_loss: 0.1146\n",
      "Epoch 65/600\n",
      "426/426 [==============================] - 0s 178us/sample - loss: 0.1975 - val_loss: 0.1135\n",
      "Epoch 66/600\n",
      "426/426 [==============================] - 0s 157us/sample - loss: 0.1740 - val_loss: 0.1092\n",
      "Epoch 67/600\n",
      "426/426 [==============================] - 0s 151us/sample - loss: 0.1901 - val_loss: 0.1142\n",
      "Epoch 68/600\n",
      "426/426 [==============================] - 0s 151us/sample - loss: 0.2003 - val_loss: 0.1128\n",
      "Epoch 69/600\n",
      "426/426 [==============================] - 0s 147us/sample - loss: 0.1556 - val_loss: 0.1066\n",
      "Epoch 70/600\n",
      "426/426 [==============================] - 0s 146us/sample - loss: 0.1684 - val_loss: 0.1143\n",
      "Epoch 71/600\n",
      "426/426 [==============================] - 0s 167us/sample - loss: 0.1804 - val_loss: 0.1141\n",
      "Epoch 72/600\n",
      "426/426 [==============================] - 0s 148us/sample - loss: 0.1875 - val_loss: 0.1104\n",
      "Epoch 73/600\n",
      "426/426 [==============================] - 0s 154us/sample - loss: 0.1744 - val_loss: 0.1070\n",
      "Epoch 74/600\n",
      "426/426 [==============================] - 0s 149us/sample - loss: 0.1824 - val_loss: 0.1081\n",
      "Epoch 75/600\n",
      "426/426 [==============================] - 0s 158us/sample - loss: 0.1664 - val_loss: 0.1093\n",
      "Epoch 76/600\n",
      "426/426 [==============================] - 0s 152us/sample - loss: 0.1556 - val_loss: 0.1104\n",
      "Epoch 77/600\n",
      "426/426 [==============================] - 0s 153us/sample - loss: 0.1756 - val_loss: 0.1069\n"
     ]
    },
    {
     "name": "stdout",
     "output_type": "stream",
     "text": [
      "Epoch 78/600\n",
      "426/426 [==============================] - 0s 181us/sample - loss: 0.1608 - val_loss: 0.1037\n",
      "Epoch 79/600\n",
      "426/426 [==============================] - 0s 166us/sample - loss: 0.1578 - val_loss: 0.1050\n",
      "Epoch 80/600\n",
      "426/426 [==============================] - 0s 191us/sample - loss: 0.1666 - val_loss: 0.1122\n",
      "Epoch 81/600\n",
      "426/426 [==============================] - 0s 171us/sample - loss: 0.1623 - val_loss: 0.1085\n",
      "Epoch 82/600\n",
      "426/426 [==============================] - 0s 163us/sample - loss: 0.1524 - val_loss: 0.1045\n",
      "Epoch 83/600\n",
      "426/426 [==============================] - 0s 166us/sample - loss: 0.1542 - val_loss: 0.1049\n",
      "Epoch 84/600\n",
      "426/426 [==============================] - 0s 151us/sample - loss: 0.1898 - val_loss: 0.1072\n",
      "Epoch 85/600\n",
      "426/426 [==============================] - 0s 148us/sample - loss: 0.1475 - val_loss: 0.1044\n",
      "Epoch 86/600\n",
      "426/426 [==============================] - 0s 159us/sample - loss: 0.1485 - val_loss: 0.1052\n",
      "Epoch 87/600\n",
      "426/426 [==============================] - 0s 168us/sample - loss: 0.1532 - val_loss: 0.1124\n",
      "Epoch 88/600\n",
      "426/426 [==============================] - 0s 153us/sample - loss: 0.1404 - val_loss: 0.1089\n",
      "Epoch 89/600\n",
      "426/426 [==============================] - 0s 158us/sample - loss: 0.1317 - val_loss: 0.1037\n",
      "Epoch 90/600\n",
      "426/426 [==============================] - 0s 206us/sample - loss: 0.1582 - val_loss: 0.1066\n",
      "Epoch 91/600\n",
      "426/426 [==============================] - 0s 169us/sample - loss: 0.1312 - val_loss: 0.1071\n",
      "Epoch 92/600\n",
      "426/426 [==============================] - 0s 183us/sample - loss: 0.1376 - val_loss: 0.1054\n",
      "Epoch 93/600\n",
      "426/426 [==============================] - 0s 192us/sample - loss: 0.1306 - val_loss: 0.1062\n",
      "Epoch 94/600\n",
      "426/426 [==============================] - 0s 185us/sample - loss: 0.1365 - val_loss: 0.1122\n",
      "Epoch 95/600\n",
      "426/426 [==============================] - 0s 487us/sample - loss: 0.1311 - val_loss: 0.1074\n",
      "Epoch 96/600\n",
      "426/426 [==============================] - 0s 187us/sample - loss: 0.1267 - val_loss: 0.1083\n",
      "Epoch 97/600\n",
      "426/426 [==============================] - 0s 182us/sample - loss: 0.1297 - val_loss: 0.1103\n",
      "Epoch 98/600\n",
      "426/426 [==============================] - 0s 191us/sample - loss: 0.1345 - val_loss: 0.1048\n",
      "Epoch 99/600\n",
      "426/426 [==============================] - 0s 181us/sample - loss: 0.1382 - val_loss: 0.1022\n",
      "Epoch 100/600\n",
      "426/426 [==============================] - 0s 197us/sample - loss: 0.1298 - val_loss: 0.1033\n",
      "Epoch 101/600\n",
      "426/426 [==============================] - 0s 205us/sample - loss: 0.1379 - val_loss: 0.1016\n",
      "Epoch 102/600\n",
      "426/426 [==============================] - 0s 266us/sample - loss: 0.1248 - val_loss: 0.1014\n",
      "Epoch 103/600\n",
      "426/426 [==============================] - 0s 168us/sample - loss: 0.1290 - val_loss: 0.1107\n",
      "Epoch 104/600\n",
      "426/426 [==============================] - 0s 177us/sample - loss: 0.1284 - val_loss: 0.1096\n",
      "Epoch 105/600\n",
      "426/426 [==============================] - 0s 170us/sample - loss: 0.1136 - val_loss: 0.1031\n",
      "Epoch 106/600\n",
      "426/426 [==============================] - 0s 195us/sample - loss: 0.1212 - val_loss: 0.1133\n",
      "Epoch 107/600\n",
      "426/426 [==============================] - 0s 215us/sample - loss: 0.1181 - val_loss: 0.1071\n",
      "Epoch 108/600\n",
      "426/426 [==============================] - 0s 187us/sample - loss: 0.1060 - val_loss: 0.1028\n",
      "Epoch 109/600\n",
      "426/426 [==============================] - 0s 180us/sample - loss: 0.1239 - val_loss: 0.1039\n",
      "Epoch 110/600\n",
      "426/426 [==============================] - 0s 195us/sample - loss: 0.1166 - val_loss: 0.1121\n",
      "Epoch 111/600\n",
      "426/426 [==============================] - 0s 191us/sample - loss: 0.1192 - val_loss: 0.1164\n",
      "Epoch 112/600\n",
      "426/426 [==============================] - 0s 179us/sample - loss: 0.1335 - val_loss: 0.1038\n",
      "Epoch 113/600\n",
      "426/426 [==============================] - 0s 202us/sample - loss: 0.1164 - val_loss: 0.1061\n",
      "Epoch 114/600\n",
      "426/426 [==============================] - 0s 183us/sample - loss: 0.1008 - val_loss: 0.1075\n",
      "Epoch 115/600\n",
      "426/426 [==============================] - 0s 194us/sample - loss: 0.1034 - val_loss: 0.1066\n",
      "Epoch 116/600\n",
      "426/426 [==============================] - 0s 188us/sample - loss: 0.1028 - val_loss: 0.1079\n",
      "Epoch 117/600\n",
      "426/426 [==============================] - 0s 205us/sample - loss: 0.1097 - val_loss: 0.1194\n",
      "Epoch 118/600\n",
      "426/426 [==============================] - 0s 192us/sample - loss: 0.1115 - val_loss: 0.1055\n",
      "Epoch 119/600\n",
      "426/426 [==============================] - 0s 190us/sample - loss: 0.0984 - val_loss: 0.1037\n",
      "Epoch 120/600\n",
      "426/426 [==============================] - 0s 201us/sample - loss: 0.1183 - val_loss: 0.1085\n",
      "Epoch 121/600\n",
      "426/426 [==============================] - 0s 218us/sample - loss: 0.1018 - val_loss: 0.1129\n",
      "Epoch 122/600\n",
      "426/426 [==============================] - 0s 187us/sample - loss: 0.1018 - val_loss: 0.1065\n",
      "Epoch 123/600\n",
      "426/426 [==============================] - 0s 184us/sample - loss: 0.1165 - val_loss: 0.1086\n",
      "Epoch 124/600\n",
      "426/426 [==============================] - 0s 206us/sample - loss: 0.1205 - val_loss: 0.1167\n",
      "Epoch 125/600\n",
      "426/426 [==============================] - 0s 187us/sample - loss: 0.1175 - val_loss: 0.1097\n",
      "Epoch 126/600\n",
      "426/426 [==============================] - 0s 201us/sample - loss: 0.1144 - val_loss: 0.1053\n",
      "Epoch 127/600\n",
      "426/426 [==============================] - 0s 178us/sample - loss: 0.1091 - val_loss: 0.1171\n",
      "Epoch 00127: early stopping\n"
     ]
    },
    {
     "data": {
      "text/plain": [
       "<tensorflow.python.keras.callbacks.History at 0x7f61a03f9320>"
      ]
     },
     "execution_count": 19,
     "metadata": {},
     "output_type": "execute_result"
    }
   ],
   "source": [
    "model.fit(x=X_train, \n",
    "          y=y_train, \n",
    "          epochs=600,\n",
    "          validation_data=(X_test, y_test), verbose=1,\n",
    "          callbacks=[early_stop,board]\n",
    "          )"
   ]
  },
  {
   "cell_type": "markdown",
   "metadata": {},
   "source": [
    "# Running Tensorboard\n"
   ]
  },
  {
   "cell_type": "markdown",
   "metadata": {},
   "source": [
    "## Running through the Command Line\n",
    "\n",
    "**Watch video to see how to run Tensorboard through a command line call.**"
   ]
  },
  {
   "cell_type": "markdown",
   "metadata": {},
   "source": [
    "Tensorboard will run locally in your browser at [http://localhost:6006/](http://localhost:6006/)\n"
   ]
  },
  {
   "cell_type": "code",
   "execution_count": 20,
   "metadata": {},
   "outputs": [
    {
     "name": "stdout",
     "output_type": "stream",
     "text": [
      "logs/fit\n"
     ]
    }
   ],
   "source": [
    "print(log_directory)"
   ]
  },
  {
   "cell_type": "code",
   "execution_count": 21,
   "metadata": {},
   "outputs": [
    {
     "data": {
      "text/plain": [
       "'/home/masteropencv/1Python exercises/Tensorflow keras'"
      ]
     },
     "execution_count": 21,
     "metadata": {},
     "output_type": "execute_result"
    }
   ],
   "source": [
    "pwd"
   ]
  },
  {
   "cell_type": "markdown",
   "metadata": {},
   "source": [
    "### Use cd at your command line to change directory to the file path reported back by pwd or your current .py file location.\n",
    "### Then run this code at your command line or terminal"
   ]
  },
  {
   "cell_type": "code",
   "execution_count": 22,
   "metadata": {},
   "outputs": [
    {
     "ename": "SyntaxError",
     "evalue": "invalid syntax (<ipython-input-22-46a9c1cd2d11>, line 1)",
     "output_type": "error",
     "traceback": [
      "\u001b[0;36m  File \u001b[0;32m\"<ipython-input-22-46a9c1cd2d11>\"\u001b[0;36m, line \u001b[0;32m1\u001b[0m\n\u001b[0;31m    tensorboard --logdir logs/fit\u001b[0m\n\u001b[0m                            ^\u001b[0m\n\u001b[0;31mSyntaxError\u001b[0m\u001b[0;31m:\u001b[0m invalid syntax\n"
     ]
    }
   ],
   "source": [
    "#raftan be masire tensorboard\n",
    "cd ./1Python\\ exercises/Tensorflow\\ keras/\n",
    "#in code ro mizanim\n",
    "tensorboard --logdir logs/fit\n"
   ]
  },
  {
   "cell_type": "code",
   "execution_count": null,
   "metadata": {},
   "outputs": [],
   "source": []
  }
 ],
 "metadata": {
  "kernelspec": {
   "display_name": "Python 3",
   "language": "python",
   "name": "python3"
  },
  "language_info": {
   "codemirror_mode": {
    "name": "ipython",
    "version": 3
   },
   "file_extension": ".py",
   "mimetype": "text/x-python",
   "name": "python",
   "nbconvert_exporter": "python",
   "pygments_lexer": "ipython3",
   "version": "3.6.9"
  }
 },
 "nbformat": 4,
 "nbformat_minor": 2
}
